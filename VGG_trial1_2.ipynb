{
  "nbformat": 4,
  "nbformat_minor": 0,
  "metadata": {
    "colab": {
      "provenance": [],
      "gpuType": "T4",
      "authorship_tag": "ABX9TyNt+GzHZ8es/XCm2+nhMKxf",
      "include_colab_link": true
    },
    "kernelspec": {
      "name": "python3",
      "display_name": "Python 3"
    },
    "language_info": {
      "name": "python"
    },
    "accelerator": "GPU"
  },
  "cells": [
    {
      "cell_type": "markdown",
      "metadata": {
        "id": "view-in-github",
        "colab_type": "text"
      },
      "source": [
        "<a href=\"https://colab.research.google.com/github/ToukaNour30/VGG-16/blob/main/VGG_trial1_2.ipynb\" target=\"_parent\"><img src=\"https://colab.research.google.com/assets/colab-badge.svg\" alt=\"Open In Colab\"/></a>"
      ]
    },
    {
      "cell_type": "code",
      "source": [
        "pip install tensorflow numpy matplotlib scikit-learn"
      ],
      "metadata": {
        "colab": {
          "base_uri": "https://localhost:8080/"
        },
        "collapsed": true,
        "id": "cHKq9JNNXsWj",
        "outputId": "19eb6674-48aa-4b70-cbea-38d31f97940f"
      },
      "execution_count": null,
      "outputs": [
        {
          "output_type": "stream",
          "name": "stdout",
          "text": [
            "Requirement already satisfied: tensorflow in /usr/local/lib/python3.10/dist-packages (2.17.1)\n",
            "Requirement already satisfied: numpy in /usr/local/lib/python3.10/dist-packages (1.26.4)\n",
            "Requirement already satisfied: matplotlib in /usr/local/lib/python3.10/dist-packages (3.8.0)\n",
            "Requirement already satisfied: scikit-learn in /usr/local/lib/python3.10/dist-packages (1.6.0)\n",
            "Requirement already satisfied: absl-py>=1.0.0 in /usr/local/lib/python3.10/dist-packages (from tensorflow) (1.4.0)\n",
            "Requirement already satisfied: astunparse>=1.6.0 in /usr/local/lib/python3.10/dist-packages (from tensorflow) (1.6.3)\n",
            "Requirement already satisfied: flatbuffers>=24.3.25 in /usr/local/lib/python3.10/dist-packages (from tensorflow) (24.3.25)\n",
            "Requirement already satisfied: gast!=0.5.0,!=0.5.1,!=0.5.2,>=0.2.1 in /usr/local/lib/python3.10/dist-packages (from tensorflow) (0.6.0)\n",
            "Requirement already satisfied: google-pasta>=0.1.1 in /usr/local/lib/python3.10/dist-packages (from tensorflow) (0.2.0)\n",
            "Requirement already satisfied: h5py>=3.10.0 in /usr/local/lib/python3.10/dist-packages (from tensorflow) (3.12.1)\n",
            "Requirement already satisfied: libclang>=13.0.0 in /usr/local/lib/python3.10/dist-packages (from tensorflow) (18.1.1)\n",
            "Requirement already satisfied: ml-dtypes<0.5.0,>=0.3.1 in /usr/local/lib/python3.10/dist-packages (from tensorflow) (0.4.1)\n",
            "Requirement already satisfied: opt-einsum>=2.3.2 in /usr/local/lib/python3.10/dist-packages (from tensorflow) (3.4.0)\n",
            "Requirement already satisfied: packaging in /usr/local/lib/python3.10/dist-packages (from tensorflow) (24.2)\n",
            "Requirement already satisfied: protobuf!=4.21.0,!=4.21.1,!=4.21.2,!=4.21.3,!=4.21.4,!=4.21.5,<5.0.0dev,>=3.20.3 in /usr/local/lib/python3.10/dist-packages (from tensorflow) (4.25.5)\n",
            "Requirement already satisfied: requests<3,>=2.21.0 in /usr/local/lib/python3.10/dist-packages (from tensorflow) (2.32.3)\n",
            "Requirement already satisfied: setuptools in /usr/local/lib/python3.10/dist-packages (from tensorflow) (75.1.0)\n",
            "Requirement already satisfied: six>=1.12.0 in /usr/local/lib/python3.10/dist-packages (from tensorflow) (1.17.0)\n",
            "Requirement already satisfied: termcolor>=1.1.0 in /usr/local/lib/python3.10/dist-packages (from tensorflow) (2.5.0)\n",
            "Requirement already satisfied: typing-extensions>=3.6.6 in /usr/local/lib/python3.10/dist-packages (from tensorflow) (4.12.2)\n",
            "Requirement already satisfied: wrapt>=1.11.0 in /usr/local/lib/python3.10/dist-packages (from tensorflow) (1.17.0)\n",
            "Requirement already satisfied: grpcio<2.0,>=1.24.3 in /usr/local/lib/python3.10/dist-packages (from tensorflow) (1.68.1)\n",
            "Requirement already satisfied: tensorboard<2.18,>=2.17 in /usr/local/lib/python3.10/dist-packages (from tensorflow) (2.17.1)\n",
            "Requirement already satisfied: keras>=3.2.0 in /usr/local/lib/python3.10/dist-packages (from tensorflow) (3.5.0)\n",
            "Requirement already satisfied: tensorflow-io-gcs-filesystem>=0.23.1 in /usr/local/lib/python3.10/dist-packages (from tensorflow) (0.37.1)\n",
            "Requirement already satisfied: contourpy>=1.0.1 in /usr/local/lib/python3.10/dist-packages (from matplotlib) (1.3.1)\n",
            "Requirement already satisfied: cycler>=0.10 in /usr/local/lib/python3.10/dist-packages (from matplotlib) (0.12.1)\n",
            "Requirement already satisfied: fonttools>=4.22.0 in /usr/local/lib/python3.10/dist-packages (from matplotlib) (4.55.3)\n",
            "Requirement already satisfied: kiwisolver>=1.0.1 in /usr/local/lib/python3.10/dist-packages (from matplotlib) (1.4.7)\n",
            "Requirement already satisfied: pillow>=6.2.0 in /usr/local/lib/python3.10/dist-packages (from matplotlib) (11.0.0)\n",
            "Requirement already satisfied: pyparsing>=2.3.1 in /usr/local/lib/python3.10/dist-packages (from matplotlib) (3.2.0)\n",
            "Requirement already satisfied: python-dateutil>=2.7 in /usr/local/lib/python3.10/dist-packages (from matplotlib) (2.8.2)\n",
            "Requirement already satisfied: scipy>=1.6.0 in /usr/local/lib/python3.10/dist-packages (from scikit-learn) (1.13.1)\n",
            "Requirement already satisfied: joblib>=1.2.0 in /usr/local/lib/python3.10/dist-packages (from scikit-learn) (1.4.2)\n",
            "Requirement already satisfied: threadpoolctl>=3.1.0 in /usr/local/lib/python3.10/dist-packages (from scikit-learn) (3.5.0)\n",
            "Requirement already satisfied: wheel<1.0,>=0.23.0 in /usr/local/lib/python3.10/dist-packages (from astunparse>=1.6.0->tensorflow) (0.45.1)\n",
            "Requirement already satisfied: rich in /usr/local/lib/python3.10/dist-packages (from keras>=3.2.0->tensorflow) (13.9.4)\n",
            "Requirement already satisfied: namex in /usr/local/lib/python3.10/dist-packages (from keras>=3.2.0->tensorflow) (0.0.8)\n",
            "Requirement already satisfied: optree in /usr/local/lib/python3.10/dist-packages (from keras>=3.2.0->tensorflow) (0.13.1)\n",
            "Requirement already satisfied: charset-normalizer<4,>=2 in /usr/local/lib/python3.10/dist-packages (from requests<3,>=2.21.0->tensorflow) (3.4.0)\n",
            "Requirement already satisfied: idna<4,>=2.5 in /usr/local/lib/python3.10/dist-packages (from requests<3,>=2.21.0->tensorflow) (3.10)\n",
            "Requirement already satisfied: urllib3<3,>=1.21.1 in /usr/local/lib/python3.10/dist-packages (from requests<3,>=2.21.0->tensorflow) (2.2.3)\n",
            "Requirement already satisfied: certifi>=2017.4.17 in /usr/local/lib/python3.10/dist-packages (from requests<3,>=2.21.0->tensorflow) (2024.12.14)\n",
            "Requirement already satisfied: markdown>=2.6.8 in /usr/local/lib/python3.10/dist-packages (from tensorboard<2.18,>=2.17->tensorflow) (3.7)\n",
            "Requirement already satisfied: tensorboard-data-server<0.8.0,>=0.7.0 in /usr/local/lib/python3.10/dist-packages (from tensorboard<2.18,>=2.17->tensorflow) (0.7.2)\n",
            "Requirement already satisfied: werkzeug>=1.0.1 in /usr/local/lib/python3.10/dist-packages (from tensorboard<2.18,>=2.17->tensorflow) (3.1.3)\n",
            "Requirement already satisfied: MarkupSafe>=2.1.1 in /usr/local/lib/python3.10/dist-packages (from werkzeug>=1.0.1->tensorboard<2.18,>=2.17->tensorflow) (3.0.2)\n",
            "Requirement already satisfied: markdown-it-py>=2.2.0 in /usr/local/lib/python3.10/dist-packages (from rich->keras>=3.2.0->tensorflow) (3.0.0)\n",
            "Requirement already satisfied: pygments<3.0.0,>=2.13.0 in /usr/local/lib/python3.10/dist-packages (from rich->keras>=3.2.0->tensorflow) (2.18.0)\n",
            "Requirement already satisfied: mdurl~=0.1 in /usr/local/lib/python3.10/dist-packages (from markdown-it-py>=2.2.0->rich->keras>=3.2.0->tensorflow) (0.1.2)\n"
          ]
        }
      ]
    },
    {
      "cell_type": "code",
      "source": [
        "!pip install kaggle tensorflow numpy matplotlib scikit-learn"
      ],
      "metadata": {
        "colab": {
          "base_uri": "https://localhost:8080/"
        },
        "collapsed": true,
        "id": "-AaJPI3vXNPg",
        "outputId": "f02ceb47-f04c-4756-dbf9-0dd94079daf8"
      },
      "execution_count": null,
      "outputs": [
        {
          "output_type": "stream",
          "name": "stdout",
          "text": [
            "Requirement already satisfied: kaggle in /usr/local/lib/python3.10/dist-packages (1.6.17)\n",
            "Requirement already satisfied: tensorflow in /usr/local/lib/python3.10/dist-packages (2.17.1)\n",
            "Requirement already satisfied: numpy in /usr/local/lib/python3.10/dist-packages (1.26.4)\n",
            "Requirement already satisfied: matplotlib in /usr/local/lib/python3.10/dist-packages (3.8.0)\n",
            "Requirement already satisfied: scikit-learn in /usr/local/lib/python3.10/dist-packages (1.6.0)\n",
            "Requirement already satisfied: six>=1.10 in /usr/local/lib/python3.10/dist-packages (from kaggle) (1.17.0)\n",
            "Requirement already satisfied: certifi>=2023.7.22 in /usr/local/lib/python3.10/dist-packages (from kaggle) (2024.12.14)\n",
            "Requirement already satisfied: python-dateutil in /usr/local/lib/python3.10/dist-packages (from kaggle) (2.8.2)\n",
            "Requirement already satisfied: requests in /usr/local/lib/python3.10/dist-packages (from kaggle) (2.32.3)\n",
            "Requirement already satisfied: tqdm in /usr/local/lib/python3.10/dist-packages (from kaggle) (4.67.1)\n",
            "Requirement already satisfied: python-slugify in /usr/local/lib/python3.10/dist-packages (from kaggle) (8.0.4)\n",
            "Requirement already satisfied: urllib3 in /usr/local/lib/python3.10/dist-packages (from kaggle) (2.2.3)\n",
            "Requirement already satisfied: bleach in /usr/local/lib/python3.10/dist-packages (from kaggle) (6.2.0)\n",
            "Requirement already satisfied: absl-py>=1.0.0 in /usr/local/lib/python3.10/dist-packages (from tensorflow) (1.4.0)\n",
            "Requirement already satisfied: astunparse>=1.6.0 in /usr/local/lib/python3.10/dist-packages (from tensorflow) (1.6.3)\n",
            "Requirement already satisfied: flatbuffers>=24.3.25 in /usr/local/lib/python3.10/dist-packages (from tensorflow) (24.3.25)\n",
            "Requirement already satisfied: gast!=0.5.0,!=0.5.1,!=0.5.2,>=0.2.1 in /usr/local/lib/python3.10/dist-packages (from tensorflow) (0.6.0)\n",
            "Requirement already satisfied: google-pasta>=0.1.1 in /usr/local/lib/python3.10/dist-packages (from tensorflow) (0.2.0)\n",
            "Requirement already satisfied: h5py>=3.10.0 in /usr/local/lib/python3.10/dist-packages (from tensorflow) (3.12.1)\n",
            "Requirement already satisfied: libclang>=13.0.0 in /usr/local/lib/python3.10/dist-packages (from tensorflow) (18.1.1)\n",
            "Requirement already satisfied: ml-dtypes<0.5.0,>=0.3.1 in /usr/local/lib/python3.10/dist-packages (from tensorflow) (0.4.1)\n",
            "Requirement already satisfied: opt-einsum>=2.3.2 in /usr/local/lib/python3.10/dist-packages (from tensorflow) (3.4.0)\n",
            "Requirement already satisfied: packaging in /usr/local/lib/python3.10/dist-packages (from tensorflow) (24.2)\n",
            "Requirement already satisfied: protobuf!=4.21.0,!=4.21.1,!=4.21.2,!=4.21.3,!=4.21.4,!=4.21.5,<5.0.0dev,>=3.20.3 in /usr/local/lib/python3.10/dist-packages (from tensorflow) (4.25.5)\n",
            "Requirement already satisfied: setuptools in /usr/local/lib/python3.10/dist-packages (from tensorflow) (75.1.0)\n",
            "Requirement already satisfied: termcolor>=1.1.0 in /usr/local/lib/python3.10/dist-packages (from tensorflow) (2.5.0)\n",
            "Requirement already satisfied: typing-extensions>=3.6.6 in /usr/local/lib/python3.10/dist-packages (from tensorflow) (4.12.2)\n",
            "Requirement already satisfied: wrapt>=1.11.0 in /usr/local/lib/python3.10/dist-packages (from tensorflow) (1.17.0)\n",
            "Requirement already satisfied: grpcio<2.0,>=1.24.3 in /usr/local/lib/python3.10/dist-packages (from tensorflow) (1.68.1)\n",
            "Requirement already satisfied: tensorboard<2.18,>=2.17 in /usr/local/lib/python3.10/dist-packages (from tensorflow) (2.17.1)\n",
            "Requirement already satisfied: keras>=3.2.0 in /usr/local/lib/python3.10/dist-packages (from tensorflow) (3.5.0)\n",
            "Requirement already satisfied: tensorflow-io-gcs-filesystem>=0.23.1 in /usr/local/lib/python3.10/dist-packages (from tensorflow) (0.37.1)\n",
            "Requirement already satisfied: contourpy>=1.0.1 in /usr/local/lib/python3.10/dist-packages (from matplotlib) (1.3.1)\n",
            "Requirement already satisfied: cycler>=0.10 in /usr/local/lib/python3.10/dist-packages (from matplotlib) (0.12.1)\n",
            "Requirement already satisfied: fonttools>=4.22.0 in /usr/local/lib/python3.10/dist-packages (from matplotlib) (4.55.3)\n",
            "Requirement already satisfied: kiwisolver>=1.0.1 in /usr/local/lib/python3.10/dist-packages (from matplotlib) (1.4.7)\n",
            "Requirement already satisfied: pillow>=6.2.0 in /usr/local/lib/python3.10/dist-packages (from matplotlib) (11.0.0)\n",
            "Requirement already satisfied: pyparsing>=2.3.1 in /usr/local/lib/python3.10/dist-packages (from matplotlib) (3.2.0)\n",
            "Requirement already satisfied: scipy>=1.6.0 in /usr/local/lib/python3.10/dist-packages (from scikit-learn) (1.13.1)\n",
            "Requirement already satisfied: joblib>=1.2.0 in /usr/local/lib/python3.10/dist-packages (from scikit-learn) (1.4.2)\n",
            "Requirement already satisfied: threadpoolctl>=3.1.0 in /usr/local/lib/python3.10/dist-packages (from scikit-learn) (3.5.0)\n",
            "Requirement already satisfied: wheel<1.0,>=0.23.0 in /usr/local/lib/python3.10/dist-packages (from astunparse>=1.6.0->tensorflow) (0.45.1)\n",
            "Requirement already satisfied: rich in /usr/local/lib/python3.10/dist-packages (from keras>=3.2.0->tensorflow) (13.9.4)\n",
            "Requirement already satisfied: namex in /usr/local/lib/python3.10/dist-packages (from keras>=3.2.0->tensorflow) (0.0.8)\n",
            "Requirement already satisfied: optree in /usr/local/lib/python3.10/dist-packages (from keras>=3.2.0->tensorflow) (0.13.1)\n",
            "Requirement already satisfied: charset-normalizer<4,>=2 in /usr/local/lib/python3.10/dist-packages (from requests->kaggle) (3.4.0)\n",
            "Requirement already satisfied: idna<4,>=2.5 in /usr/local/lib/python3.10/dist-packages (from requests->kaggle) (3.10)\n",
            "Requirement already satisfied: markdown>=2.6.8 in /usr/local/lib/python3.10/dist-packages (from tensorboard<2.18,>=2.17->tensorflow) (3.7)\n",
            "Requirement already satisfied: tensorboard-data-server<0.8.0,>=0.7.0 in /usr/local/lib/python3.10/dist-packages (from tensorboard<2.18,>=2.17->tensorflow) (0.7.2)\n",
            "Requirement already satisfied: werkzeug>=1.0.1 in /usr/local/lib/python3.10/dist-packages (from tensorboard<2.18,>=2.17->tensorflow) (3.1.3)\n",
            "Requirement already satisfied: webencodings in /usr/local/lib/python3.10/dist-packages (from bleach->kaggle) (0.5.1)\n",
            "Requirement already satisfied: text-unidecode>=1.3 in /usr/local/lib/python3.10/dist-packages (from python-slugify->kaggle) (1.3)\n",
            "Requirement already satisfied: MarkupSafe>=2.1.1 in /usr/local/lib/python3.10/dist-packages (from werkzeug>=1.0.1->tensorboard<2.18,>=2.17->tensorflow) (3.0.2)\n",
            "Requirement already satisfied: markdown-it-py>=2.2.0 in /usr/local/lib/python3.10/dist-packages (from rich->keras>=3.2.0->tensorflow) (3.0.0)\n",
            "Requirement already satisfied: pygments<3.0.0,>=2.13.0 in /usr/local/lib/python3.10/dist-packages (from rich->keras>=3.2.0->tensorflow) (2.18.0)\n",
            "Requirement already satisfied: mdurl~=0.1 in /usr/local/lib/python3.10/dist-packages (from markdown-it-py>=2.2.0->rich->keras>=3.2.0->tensorflow) (0.1.2)\n"
          ]
        }
      ]
    },
    {
      "cell_type": "code",
      "source": [
        "!mkdir ~/.kaggle\n",
        "!echo '{\"username\":\"<toukanour >\", \"key\":\"<your_kaggle_api_key>\"}' > ~/.kaggle/kaggle.json\n",
        "!chmod 600 ~/.kaggle/kaggle.json\n",
        "\n",
        "# Download the dataset\n",
        "!kaggle datasets download -d rm1000/brain-tumor-mri-scans\n"
      ],
      "metadata": {
        "colab": {
          "base_uri": "https://localhost:8080/"
        },
        "collapsed": true,
        "id": "6zZalpAHYAwZ",
        "outputId": "e69b3e4e-ab3a-481d-ef3c-e5a251cc4e38"
      },
      "execution_count": null,
      "outputs": [
        {
          "output_type": "stream",
          "name": "stdout",
          "text": [
            "Dataset URL: https://www.kaggle.com/datasets/rm1000/brain-tumor-mri-scans\n",
            "License(s): CC0-1.0\n",
            "Downloading brain-tumor-mri-scans.zip to /content\n",
            " 98% 231M/236M [00:02<00:00, 128MB/s]\n",
            "100% 236M/236M [00:02<00:00, 121MB/s]\n"
          ]
        }
      ]
    },
    {
      "cell_type": "code",
      "source": [
        "import zipfile\n",
        "zip_path = \"/content/brain-tumor-mri-scans.zip\"  # Update the path if different\n",
        "extract_path = \"/content/brain-tumor-mri-scans\"\n",
        "\n",
        "with zipfile.ZipFile(zip_path, 'r') as zip_ref:\n",
        "    zip_ref.extractall(extract_path)\n",
        "\n",
        "print(\"Dataset extracted!\")"
      ],
      "metadata": {
        "colab": {
          "base_uri": "https://localhost:8080/"
        },
        "collapsed": true,
        "id": "3vmxt7P7YNfD",
        "outputId": "7bfa2796-9a30-4b75-90cb-7085736afe93"
      },
      "execution_count": null,
      "outputs": [
        {
          "output_type": "stream",
          "name": "stdout",
          "text": [
            "Dataset extracted!\n"
          ]
        }
      ]
    },
    {
      "cell_type": "code",
      "source": [
        "import os\n",
        "\n",
        "# Path to the extracted dataset\n",
        "dataset_path = \"/content/brain-tumor-mri-scans\"\n",
        "\n",
        "# Verify the contents of the dataset\n",
        "print(\"Available files and folders:\")\n",
        "print(os.listdir(dataset_path))\n"
      ],
      "metadata": {
        "collapsed": true,
        "colab": {
          "base_uri": "https://localhost:8080/"
        },
        "id": "Ekf6oYCHYe2R",
        "outputId": "dcdd88b5-5b25-4f1d-dfa5-8225194eee30"
      },
      "execution_count": null,
      "outputs": [
        {
          "output_type": "stream",
          "name": "stdout",
          "text": [
            "Available files and folders:\n",
            "['meningioma', 'healthy', 'glioma', 'pituitary']\n"
          ]
        }
      ]
    },
    {
      "cell_type": "code",
      "source": [
        "\n",
        "import tensorflow as tf\n",
        "import tensorflow_datasets as tfds\n",
        "from tensorflow.keras.utils import to_categorical\n",
        "from tensorflow.keras.applications.vgg16 import VGG16\n",
        "from tensorflow.keras.applications.vgg16 import preprocess_input\n",
        "from tensorflow.keras import layers, models\n",
        "from tensorflow.keras.callbacks import EarlyStopping\n",
        "import matplotlib.pyplot as plt\n",
        "from tensorflow.keras.preprocessing.image import ImageDataGenerator\n",
        "from tensorflow.keras.callbacks import ReduceLROnPlateau\n",
        "from sklearn.model_selection import train_test_split\n",
        "import os\n",
        "import numpy as np\n"
      ],
      "metadata": {
        "id": "j6Qk8-4XZLOO"
      },
      "execution_count": null,
      "outputs": []
    },
    {
      "cell_type": "code",
      "source": [
        "\n",
        "\n",
        "# Path to the extracted dataset\n",
        "dataset_path = \"/content/brain-tumor-mri-scans\"  # Update with your dataset path\n",
        "categories = ['healthy', 'glioma', 'meningioma', 'pituitary']\n",
        "\n",
        "# Parameters\n",
        "img_size = (224, 224)  # Input size for VGG\n",
        "batch_size = 32\n",
        "\n",
        "# Function to load and preprocess images\n",
        "def load_image(img_path):\n",
        "    img = tf.io.read_file(img_path)\n",
        "    img = tf.image.decode_jpeg(img, channels=3)  # Assuming the images are in JPEG format\n",
        "    img = tf.image.resize(img, img_size)\n",
        "    img = img / 255.0  # Normalize to [0, 1]\n",
        "    return img\n",
        "\n",
        "# Function to get dataset\n",
        "def get_dataset(dataset_path, categories):\n",
        "    image_paths = []\n",
        "    labels = []\n",
        "    for category in categories:\n",
        "        folder_path = os.path.join(dataset_path, category)\n",
        "        label = categories.index(category)\n",
        "\n",
        "        for img_name in os.listdir(folder_path):\n",
        "            img_path = os.path.join(folder_path, img_name)\n",
        "            image_paths.append(img_path)\n",
        "            labels.append(label)\n",
        "\n",
        "    return image_paths, labels\n",
        "\n",
        "# Load the image paths and labels\n",
        "image_paths, labels = get_dataset(dataset_path, categories)\n",
        "\n",
        "# Split into train and test (70% for training, 30% for testing)\n",
        "train_paths, test_paths, train_labels, test_labels = train_test_split(\n",
        "    image_paths, labels, test_size=0.3, random_state=42\n",
        ")\n",
        "\n",
        "# Create TensorFlow dataset for train and test\n",
        "def create_tf_dataset(image_paths, labels):\n",
        "    image_paths = tf.constant(image_paths)\n",
        "    labels = tf.constant(labels)\n",
        "\n",
        "    dataset = tf.data.Dataset.from_tensor_slices((image_paths, labels))\n",
        "    dataset = dataset.map(lambda img_path, label: (load_image(img_path), label), num_parallel_calls=tf.data.AUTOTUNE)\n",
        "    dataset = dataset.batch(batch_size).prefetch(tf.data.AUTOTUNE)\n",
        "    return dataset\n",
        "\n",
        "# Create train and test datasets\n",
        "train_ds = create_tf_dataset(train_paths, train_labels)\n",
        "test_ds = create_tf_dataset(test_paths, test_labels)\n",
        "\n",
        "# Print shapes of train and test datasets (number of batches)\n",
        "print(f\"Train dataset batches: {len(train_paths) // batch_size}\")\n",
        "print(f\"Test dataset batches: {len(test_paths) // batch_size}\")\n"
      ],
      "metadata": {
        "colab": {
          "base_uri": "https://localhost:8080/"
        },
        "id": "Cjk8vGpyhGpK",
        "outputId": "0324850f-9cf5-46fd-89c7-3f1ea858e626"
      },
      "execution_count": null,
      "outputs": [
        {
          "output_type": "stream",
          "name": "stdout",
          "text": [
            "Train dataset batches: 153\n",
            "Test dataset batches: 65\n"
          ]
        }
      ]
    },
    {
      "cell_type": "code",
      "source": [
        "dataset_path = \"/content/brain-tumor-mri-scans\"  # Update with your dataset path\n",
        "categories = ['healthy', 'glioma', 'meningioma', 'pituitary']\n",
        "\n",
        "# Parameters\n",
        "img_size = (224, 224)  # Input size for VGG\n",
        "batch_size = 32\n",
        "\n",
        "# Function to load and preprocess images\n",
        "def load_image(img_path):\n",
        "    img = tf.io.read_file(img_path)\n",
        "    img = tf.image.decode_jpeg(img, channels=3)  # Assuming the images are in JPEG format\n",
        "    img = tf.image.resize(img, img_size)\n",
        "    img = img / 255.0  # Normalize to [0, 1]\n",
        "    return img\n",
        "\n",
        "# Function to get dataset\n",
        "def get_dataset(dataset_path, categories):\n",
        "    image_paths = []\n",
        "    labels = []\n",
        "    for category in categories:\n",
        "        folder_path = os.path.join(dataset_path, category)\n",
        "        label = categories.index(category)\n",
        "\n",
        "        for img_name in os.listdir(folder_path):\n",
        "            img_path = os.path.join(folder_path, img_name)\n",
        "            image_paths.append(img_path)\n",
        "            labels.append(label)\n",
        "\n",
        "    return image_paths, labels\n",
        "\n",
        "# Load the image paths and labels\n",
        "image_paths, labels = get_dataset(dataset_path, categories)\n",
        "\n",
        "# Split into train and test (70% for training, 30% for testing)\n",
        "train_paths, test_paths, train_labels, test_labels = train_test_split(\n",
        "    image_paths, labels, test_size=0.3, random_state=42\n",
        ")\n",
        "\n",
        "# Create TensorFlow dataset for train and test\n",
        "def create_tf_dataset(image_paths, labels):\n",
        "    dataset = tf.data.Dataset.from_tensor_slices((image_paths, labels))\n",
        "\n",
        "    # Mapping function to load and preprocess images\n",
        "    dataset = dataset.map(lambda img_path, label: (load_image(img_path), label), num_parallel_calls=tf.data.AUTOTUNE)\n",
        "\n",
        "    # Batch and prefetch to improve performance\n",
        "    dataset = dataset.batch(batch_size).prefetch(tf.data.AUTOTUNE)\n",
        "\n",
        "    return dataset\n",
        "\n",
        "# Create train and test datasets\n",
        "train_ds = create_tf_dataset(train_paths, train_labels)\n",
        "test_ds = create_tf_dataset(test_paths, test_labels)\n",
        "\n",
        "# Print shapes of train and test datasets (number of batches)\n",
        "print(f\"Train dataset batches: {len(train_paths) // batch_size}\")\n",
        "print(f\"Test dataset batches: {len(test_paths) // batch_size}\")\n"
      ],
      "metadata": {
        "id": "rChKtSODhavA",
        "colab": {
          "base_uri": "https://localhost:8080/"
        },
        "outputId": "c36a1fac-45f2-4654-e8b2-c6d6fb18198d"
      },
      "execution_count": null,
      "outputs": [
        {
          "output_type": "stream",
          "name": "stdout",
          "text": [
            "Train dataset batches: 153\n",
            "Test dataset batches: 65\n"
          ]
        }
      ]
    },
    {
      "cell_type": "code",
      "source": [
        "import tensorflow as tf\n",
        "from tensorflow.keras.utils import to_categorical\n",
        "from tensorflow.keras.applications.vgg16 import preprocess_input\n",
        "\n",
        "# Resizing and preprocessing images for VGG\n",
        "def preprocess_image(img_path):\n",
        "    # Load the image\n",
        "    img = tf.io.read_file(img_path)\n",
        "    img = tf.image.decode_jpeg(img, channels=3)  # Assuming images are in JPEG format\n",
        "    img = tf.image.resize(img, (224, 224))  # Resize to (224, 224)\n",
        "    img = preprocess_input(img)  # Preprocess the image for VGG\n",
        "    return img\n",
        "\n",
        "# Apply preprocessing to the datasets\n",
        "def create_vgg_dataset(image_paths, labels, batch_size=32):\n",
        "    # Create a TensorFlow dataset\n",
        "    dataset = tf.data.Dataset.from_tensor_slices((image_paths, labels))\n",
        "\n",
        "    # Map function to load, resize, and preprocess the images\n",
        "    dataset = dataset.map(lambda img_path, label: (preprocess_image(img_path), label), num_parallel_calls=tf.data.AUTOTUNE)\n",
        "\n",
        "    # Batch and prefetch the dataset\n",
        "    dataset = dataset.batch(batch_size).prefetch(tf.data.AUTOTUNE)\n",
        "\n",
        "    return dataset\n",
        "\n",
        "# Convert labels to one-hot encoding for VGG (assuming 4 classes in your dataset)\n",
        "train_labels_one_hot = to_categorical(train_labels, num_classes=4)  # Change `num_classes=4` if necessary\n",
        "test_labels_one_hot = to_categorical(test_labels, num_classes=4)\n",
        "\n",
        "# Create the VGG-compatible datasets\n",
        "train_ds_vgg = create_vgg_dataset(train_paths, train_labels_one_hot)\n",
        "test_ds_vgg = create_vgg_dataset(test_paths, test_labels_one_hot)\n",
        "\n",
        "# Print shapes of train and test datasets\n",
        "print(f\"Train dataset batches: {len(train_paths) // 32}\")\n",
        "print(f\"Test dataset batches: {len(test_paths) // 32}\")\n"
      ],
      "metadata": {
        "colab": {
          "base_uri": "https://localhost:8080/"
        },
        "id": "0ulo2nD6ie0V",
        "outputId": "d323ffa7-e310-4958-83c9-cc0a7410307a"
      },
      "execution_count": null,
      "outputs": [
        {
          "output_type": "stream",
          "name": "stdout",
          "text": [
            "Train dataset batches: 153\n",
            "Test dataset batches: 65\n"
          ]
        }
      ]
    },
    {
      "cell_type": "code",
      "source": [
        "# Print the shape of a batch from the train and test datasets\n",
        "for images, labels in train_ds.take(1):  # Take one batch\n",
        "    print(f\"Train images batch shape: {images.shape}\")\n",
        "    print(f\"Train labels batch shape: {labels.shape}\")\n",
        "\n",
        "for images, labels in test_ds.take(1):  # Take one batch\n",
        "    print(f\"Test images batch shape: {images.shape}\")\n",
        "    print(f\"Test labels batch shape: {labels.shape}\")\n"
      ],
      "metadata": {
        "colab": {
          "base_uri": "https://localhost:8080/"
        },
        "id": "RTCL703dijNX",
        "outputId": "c6f9ab9f-7010-4620-ade2-f208528b4579"
      },
      "execution_count": null,
      "outputs": [
        {
          "output_type": "stream",
          "name": "stdout",
          "text": [
            "Train images batch shape: (32, 224, 224, 3)\n",
            "Train labels batch shape: (32,)\n",
            "Test images batch shape: (32, 224, 224, 3)\n",
            "Test labels batch shape: (32,)\n"
          ]
        }
      ]
    },
    {
      "cell_type": "code",
      "source": [
        "base_model = VGG16(weights=\"imagenet\", include_top=False, input_shape=(224, 224, 3))\n"
      ],
      "metadata": {
        "id": "7w-yEQHQjPbq",
        "colab": {
          "base_uri": "https://localhost:8080/"
        },
        "outputId": "28d1d8a7-8f0e-4c9b-ce60-f32d7b14aa49"
      },
      "execution_count": null,
      "outputs": [
        {
          "output_type": "stream",
          "name": "stdout",
          "text": [
            "Downloading data from https://storage.googleapis.com/tensorflow/keras-applications/vgg16/vgg16_weights_tf_dim_ordering_tf_kernels_notop.h5\n",
            "\u001b[1m58889256/58889256\u001b[0m \u001b[32m━━━━━━━━━━━━━━━━━━━━\u001b[0m\u001b[37m\u001b[0m \u001b[1m0s\u001b[0m 0us/step\n"
          ]
        }
      ]
    },
    {
      "cell_type": "code",
      "source": [
        "fine_tune = 0\n",
        "if fine_tune > 0:\n",
        "  for layer in base_model.layers[:-fine_tune]:\n",
        "    layer.trainable = False\n",
        "else:\n",
        "  for layer in base_model.layers:\n",
        "    layer.trainable = False"
      ],
      "metadata": {
        "id": "Mm_1gK2EjcVm"
      },
      "execution_count": null,
      "outputs": []
    },
    {
      "cell_type": "code",
      "source": [
        "from tensorflow.keras.applications.vgg16 import preprocess_input\n",
        "\n",
        "# Function to preprocess images\n",
        "def preprocess_image(img_path):\n",
        "    img = tf.io.read_file(img_path)\n",
        "    img = tf.image.decode_jpeg(img, channels=3)  # Assuming JPEG format\n",
        "    img = tf.image.resize(img, (224, 224))  # Resize to (224, 224)\n",
        "    img = preprocess_input(img)  # Apply VGG-specific preprocessing\n",
        "    return img\n",
        "\n",
        "# Create the dataset with preprocessing\n",
        "def create_vgg_dataset(image_paths, labels, batch_size=32):\n",
        "    dataset = tf.data.Dataset.from_tensor_slices((image_paths, labels))\n",
        "\n",
        "    # Apply preprocessing to each image\n",
        "    dataset = dataset.map(lambda img_path, label: (preprocess_image(img_path), label), num_parallel_calls=tf.data.AUTOTUNE)\n",
        "\n",
        "    # Batch and prefetch the dataset for better performance\n",
        "    dataset = dataset.batch(batch_size).prefetch(tf.data.AUTOTUNE)\n",
        "\n",
        "    return dataset\n",
        "\n",
        "# Apply the dataset creation function to both train and test datasets\n",
        "train_ds_vgg = create_vgg_dataset(train_paths, train_labels_one_hot)\n",
        "test_ds_vgg = create_vgg_dataset(test_paths, test_labels_one_hot)\n",
        "\n",
        "# Print shapes of the batches\n",
        "for images, labels in train_ds_vgg.take(1):\n",
        "    print(f\"Train batch images shape: {images.shape}\")\n",
        "    print(f\"Train batch labels shape: {labels.shape}\")\n",
        "\n",
        "for images, labels in test_ds_vgg.take(1):\n",
        "    print(f\"Test batch images shape: {images.shape}\")\n",
        "    print(f\"Test batch labels shape: {labels.shape}\")\n"
      ],
      "metadata": {
        "colab": {
          "base_uri": "https://localhost:8080/"
        },
        "id": "o4zFGH_MjtVS",
        "outputId": "ad733ea9-bdc6-4cf3-b2a5-aa45c7761429"
      },
      "execution_count": null,
      "outputs": [
        {
          "output_type": "stream",
          "name": "stdout",
          "text": [
            "Train batch images shape: (32, 224, 224, 3)\n",
            "Train batch labels shape: (32, 4)\n",
            "Test batch images shape: (32, 224, 224, 3)\n",
            "Test batch labels shape: (32, 4)\n"
          ]
        }
      ]
    },
    {
      "cell_type": "code",
      "source": [
        "model = models.Sequential([\n",
        "    base_model,\n",
        "    layers.Flatten(),\n",
        "    layers.Dense(50, activation='relu'),\n",
        "    layers.Dense(20, activation='relu'),\n",
        "    layers.Dense(4, activation='softmax')\n",
        "])"
      ],
      "metadata": {
        "id": "3QR9_EKqj1J4"
      },
      "execution_count": null,
      "outputs": []
    },
    {
      "cell_type": "markdown",
      "source": [
        " **without early stopping**"
      ],
      "metadata": {
        "id": "sERiiGfinQMs"
      }
    },
    {
      "cell_type": "code",
      "source": [
        "\n",
        "def split_dataset(dataset, validation_split=0.2):\n",
        "    val_size = int(len(dataset) * validation_split)\n",
        "    train_size = len(dataset) - val_size\n",
        "    train_dataset = dataset.take(train_size)\n",
        "    val_dataset = dataset.skip(train_size)\n",
        "\n",
        "    return train_dataset, val_dataset\n",
        "\n",
        "# Split the datasets into train and validation datasets\n",
        "train_ds_split, val_ds_split = split_dataset(train_ds_vgg, validation_split=0.2)\n",
        "\n",
        "# Model compilation\n",
        "model.compile(\n",
        "    optimizer='adam',\n",
        "    loss='categorical_crossentropy',\n",
        "    metrics=['accuracy']\n",
        ")\n",
        "\n",
        "# EarlyStopping callback\n",
        "#es = EarlyStopping(monitor='val_accuracy', mode='max', patience=2, restore_best_weights=True)\n",
        "\n",
        "#lr_scheduler = ReduceLROnPlateau(monitor='val_loss', factor=0.1, patience=2)\n",
        "\n",
        "# Train the model\n",
        "history = model.fit(\n",
        "    train_ds_split,  # Train dataset\n",
        "    epochs=20,\n",
        "    validation_data=val_ds_split,  # Validation dataset\n",
        "   # callbacks=[es]\n",
        ")\n"
      ],
      "metadata": {
        "colab": {
          "base_uri": "https://localhost:8080/"
        },
        "id": "V6FYNNb6j5IE",
        "outputId": "875b9db3-2b02-49bc-8c94-cc1002d16bd2"
      },
      "execution_count": null,
      "outputs": [
        {
          "output_type": "stream",
          "name": "stdout",
          "text": [
            "Epoch 1/20\n",
            "\u001b[1m124/124\u001b[0m \u001b[32m━━━━━━━━━━━━━━━━━━━━\u001b[0m\u001b[37m\u001b[0m \u001b[1m65s\u001b[0m 381ms/step - accuracy: 0.6799 - loss: 2.2265 - val_accuracy: 0.8671 - val_loss: 0.3760\n",
            "Epoch 2/20\n",
            "\u001b[1m124/124\u001b[0m \u001b[32m━━━━━━━━━━━━━━━━━━━━\u001b[0m\u001b[37m\u001b[0m \u001b[1m33s\u001b[0m 270ms/step - accuracy: 0.8923 - loss: 0.2888 - val_accuracy: 0.8977 - val_loss: 0.3628\n",
            "Epoch 3/20\n",
            "\u001b[1m124/124\u001b[0m \u001b[32m━━━━━━━━━━━━━━━━━━━━\u001b[0m\u001b[37m\u001b[0m \u001b[1m31s\u001b[0m 247ms/step - accuracy: 0.9425 - loss: 0.1534 - val_accuracy: 0.9167 - val_loss: 0.4515\n",
            "Epoch 4/20\n",
            "\u001b[1m124/124\u001b[0m \u001b[32m━━━━━━━━━━━━━━━━━━━━\u001b[0m\u001b[37m\u001b[0m \u001b[1m30s\u001b[0m 239ms/step - accuracy: 0.9600 - loss: 0.1387 - val_accuracy: 0.9293 - val_loss: 0.2898\n",
            "Epoch 5/20\n",
            "\u001b[1m124/124\u001b[0m \u001b[32m━━━━━━━━━━━━━━━━━━━━\u001b[0m\u001b[37m\u001b[0m \u001b[1m42s\u001b[0m 245ms/step - accuracy: 0.9680 - loss: 0.0692 - val_accuracy: 0.9515 - val_loss: 0.2564\n",
            "Epoch 6/20\n",
            "\u001b[1m124/124\u001b[0m \u001b[32m━━━━━━━━━━━━━━━━━━━━\u001b[0m\u001b[37m\u001b[0m \u001b[1m31s\u001b[0m 246ms/step - accuracy: 0.9688 - loss: 0.0632 - val_accuracy: 0.9367 - val_loss: 0.2921\n",
            "Epoch 7/20\n",
            "\u001b[1m124/124\u001b[0m \u001b[32m━━━━━━━━━━━━━━━━━━━━\u001b[0m\u001b[37m\u001b[0m \u001b[1m30s\u001b[0m 243ms/step - accuracy: 0.9799 - loss: 0.0517 - val_accuracy: 0.9114 - val_loss: 0.6419\n",
            "Epoch 8/20\n",
            "\u001b[1m124/124\u001b[0m \u001b[32m━━━━━━━━━━━━━━━━━━━━\u001b[0m\u001b[37m\u001b[0m \u001b[1m37s\u001b[0m 296ms/step - accuracy: 0.9752 - loss: 0.0790 - val_accuracy: 0.9293 - val_loss: 0.4601\n",
            "Epoch 9/20\n",
            "\u001b[1m124/124\u001b[0m \u001b[32m━━━━━━━━━━━━━━━━━━━━\u001b[0m\u001b[37m\u001b[0m \u001b[1m32s\u001b[0m 257ms/step - accuracy: 0.9672 - loss: 0.1291 - val_accuracy: 0.9388 - val_loss: 0.3669\n",
            "Epoch 10/20\n",
            "\u001b[1m124/124\u001b[0m \u001b[32m━━━━━━━━━━━━━━━━━━━━\u001b[0m\u001b[37m\u001b[0m \u001b[1m37s\u001b[0m 302ms/step - accuracy: 0.9812 - loss: 0.0557 - val_accuracy: 0.9420 - val_loss: 0.3508\n",
            "Epoch 11/20\n",
            "\u001b[1m124/124\u001b[0m \u001b[32m━━━━━━━━━━━━━━━━━━━━\u001b[0m\u001b[37m\u001b[0m \u001b[1m37s\u001b[0m 297ms/step - accuracy: 0.9868 - loss: 0.0283 - val_accuracy: 0.9388 - val_loss: 0.3754\n",
            "Epoch 12/20\n",
            "\u001b[1m124/124\u001b[0m \u001b[32m━━━━━━━━━━━━━━━━━━━━\u001b[0m\u001b[37m\u001b[0m \u001b[1m30s\u001b[0m 246ms/step - accuracy: 0.9932 - loss: 0.0177 - val_accuracy: 0.9357 - val_loss: 0.4069\n",
            "Epoch 13/20\n",
            "\u001b[1m124/124\u001b[0m \u001b[32m━━━━━━━━━━━━━━━━━━━━\u001b[0m\u001b[37m\u001b[0m \u001b[1m30s\u001b[0m 242ms/step - accuracy: 0.9947 - loss: 0.0148 - val_accuracy: 0.9473 - val_loss: 0.3848\n",
            "Epoch 14/20\n",
            "\u001b[1m124/124\u001b[0m \u001b[32m━━━━━━━━━━━━━━━━━━━━\u001b[0m\u001b[37m\u001b[0m \u001b[1m37s\u001b[0m 301ms/step - accuracy: 0.9968 - loss: 0.0146 - val_accuracy: 0.9441 - val_loss: 0.4819\n",
            "Epoch 15/20\n",
            "\u001b[1m124/124\u001b[0m \u001b[32m━━━━━━━━━━━━━━━━━━━━\u001b[0m\u001b[37m\u001b[0m \u001b[1m37s\u001b[0m 298ms/step - accuracy: 0.9965 - loss: 0.0208 - val_accuracy: 0.9388 - val_loss: 0.5006\n",
            "Epoch 16/20\n",
            "\u001b[1m124/124\u001b[0m \u001b[32m━━━━━━━━━━━━━━━━━━━━\u001b[0m\u001b[37m\u001b[0m \u001b[1m30s\u001b[0m 245ms/step - accuracy: 0.9928 - loss: 0.0204 - val_accuracy: 0.9494 - val_loss: 0.3202\n",
            "Epoch 17/20\n",
            "\u001b[1m124/124\u001b[0m \u001b[32m━━━━━━━━━━━━━━━━━━━━\u001b[0m\u001b[37m\u001b[0m \u001b[1m37s\u001b[0m 298ms/step - accuracy: 0.9967 - loss: 0.0149 - val_accuracy: 0.9504 - val_loss: 0.3587\n",
            "Epoch 18/20\n",
            "\u001b[1m124/124\u001b[0m \u001b[32m━━━━━━━━━━━━━━━━━━━━\u001b[0m\u001b[37m\u001b[0m \u001b[1m37s\u001b[0m 298ms/step - accuracy: 0.9983 - loss: 0.0037 - val_accuracy: 0.9473 - val_loss: 0.4206\n",
            "Epoch 19/20\n",
            "\u001b[1m124/124\u001b[0m \u001b[32m━━━━━━━━━━━━━━━━━━━━\u001b[0m\u001b[37m\u001b[0m \u001b[1m30s\u001b[0m 246ms/step - accuracy: 0.9988 - loss: 0.0030 - val_accuracy: 0.9525 - val_loss: 0.4017\n",
            "Epoch 20/20\n",
            "\u001b[1m124/124\u001b[0m \u001b[32m━━━━━━━━━━━━━━━━━━━━\u001b[0m\u001b[37m\u001b[0m \u001b[1m37s\u001b[0m 297ms/step - accuracy: 0.9989 - loss: 0.0031 - val_accuracy: 0.9462 - val_loss: 0.5406\n"
          ]
        }
      ]
    },
    {
      "cell_type": "code",
      "source": [
        "if history and hasattr(history, 'history'):\n",
        "    # Extract the history dictionary\n",
        "    history_dict = history.history\n",
        "\n",
        "    # Ensure the metrics exist in the history dictionary\n",
        "    loss_values = history_dict.get('loss', [])\n",
        "    val_loss_values = history_dict.get('val_loss', [])\n",
        "    accuracy = history_dict.get('accuracy', [])\n",
        "    val_accuracy = history_dict.get('val_accuracy', [])\n",
        "\n",
        "    # Check if metrics are available\n",
        "    if not loss_values or not val_loss_values or not accuracy or not val_accuracy:\n",
        "        print(\"Training history does not contain all required metrics.\")\n",
        "    else:\n",
        "        # Define the range of epochs\n",
        "        epochs = range(1, len(loss_values) + 1)\n",
        "\n",
        "        # Create subplots for accuracy and loss\n",
        "        fig, ax = plt.subplots(1, 2, figsize=(14, 6))\n",
        "\n",
        "        # Plot Training & Validation Accuracy\n",
        "        ax[0].plot(epochs, accuracy, 'r', label='Training accuracy')\n",
        "        ax[0].plot(epochs, val_accuracy, 'b', label='Validation accuracy')\n",
        "        ax[0].set_title('Training & Validation Accuracy', fontsize=16)\n",
        "        ax[0].set_xlabel('Epochs', fontsize=16)\n",
        "        ax[0].set_ylabel('Accuracy', fontsize=16)\n",
        "        ax[0].legend()\n",
        "\n",
        "        # Plot Training & Validation Loss\n",
        "        ax[1].plot(epochs, loss_values, 'r', label='Training loss')\n",
        "        ax[1].plot(epochs, val_loss_values, 'b', label='Validation loss')\n",
        "        ax[1].set_title('Training & Validation Loss', fontsize=16)\n",
        "        ax[1].set_xlabel('Epochs', fontsize=16)\n",
        "        ax[1].set_ylabel('Loss', fontsize=16)\n",
        "        ax[1].legend()\n",
        "\n",
        "        # Display the plots\n",
        "        plt.tight_layout()\n",
        "        plt.show()\n",
        "else:\n",
        "    print(\"No training history found or history object is invalid.\")"
      ],
      "metadata": {
        "colab": {
          "base_uri": "https://localhost:8080/",
          "height": 607
        },
        "id": "cS6ZrOcdRYCg",
        "outputId": "93335e2e-8ca5-4d48-f258-997400c938bf"
      },
      "execution_count": null,
      "outputs": [
        {
          "output_type": "display_data",
          "data": {
            "text/plain": [
              "<Figure size 1400x600 with 2 Axes>"
            ],
            "image/png": "[encoded data removed]"
          },
          "metadata": {}
        }
      ]
    }
  ]
}